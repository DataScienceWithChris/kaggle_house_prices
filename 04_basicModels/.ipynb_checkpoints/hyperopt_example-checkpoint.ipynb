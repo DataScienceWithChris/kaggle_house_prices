{
 "cells": [
  {
   "cell_type": "code",
   "execution_count": 1,
   "id": "692d97ec-a6e2-476c-90ff-d3a10b86c29f",
   "metadata": {},
   "outputs": [
    {
     "name": "stdout",
     "output_type": "stream",
     "text": [
      "pandas version: 1.3.4\n",
      "numpy version: 1.21.6\n",
      "sklearn version: 1.0.2\n",
      "hyperopt version: 0.2.7\n",
      "matplotlib version: 3.4.3\n",
      "seaborn version: 0.11.2\n"
     ]
    }
   ],
   "source": [
    "# os: use operating system dependent functions\n",
    "import os\n",
    "\n",
    "# pandas: handle the datasets in the pandas dataframe for data processing and analysis\n",
    "import pandas as pd\n",
    "print(\"pandas version: {}\". format(pd.__version__))\n",
    "\n",
    "# numpy: support for large, multi-dimensional arrays and matrices and high-level mathematical functions\n",
    "import numpy as np\n",
    "print(\"numpy version: {}\". format(np.__version__))\n",
    "\n",
    "# sklearn: machine learning and data preperation\n",
    "import sklearn\n",
    "from sklearn.linear_model import ElasticNet\n",
    "from sklearn.metrics import mean_squared_error, r2_score\n",
    "from sklearn.preprocessing import StandardScaler\n",
    "from sklearn.pipeline import Pipeline\n",
    "from sklearn.compose import ColumnTransformer\n",
    "from sklearn.decomposition import PCA\n",
    "from sklearn.model_selection import GridSearchCV\n",
    "from sklearn.model_selection import cross_val_score\n",
    "print(\"sklearn version: {}\". format(sklearn.__version__))\n",
    "\n",
    "# hyperopt: optimize hyperparameter search\n",
    "import hyperopt\n",
    "from hyperopt import STATUS_OK, Trials, fmin, hp, tpe, space_eval\n",
    "print(\"hyperopt version: {}\". format(hyperopt.__version__))\n",
    "\n",
    "# matplotlib: standard library to create visualizations\n",
    "import matplotlib\n",
    "import matplotlib.pyplot as plt\n",
    "print(\"matplotlib version: {}\". format(matplotlib.__version__))\n",
    "\n",
    "# seaborn: advanced visualization library to create more advanced charts\n",
    "import seaborn as sns\n",
    "print(\"seaborn version: {}\". format(sns.__version__))\n",
    "\n",
    "# turn out warnings for better reading in the Jupyter notebbok\n",
    "pd.options.mode.chained_assignment = None  # default='warn'\n",
    "\n",
    "import warnings\n",
    "warnings.filterwarnings(\"ignore\")"
   ]
  },
  {
   "cell_type": "code",
   "execution_count": 2,
   "id": "d1fc5e77-c50e-41fb-a032-06dcaaa307b2",
   "metadata": {},
   "outputs": [],
   "source": [
    "# load prepared training and test dataset\n",
    "df_train = pd.read_pickle('../03_dataPreprocessing/df_train_prepared.pkl')\n",
    "df_test = pd.read_pickle('../03_dataPreprocessing/df_test_prepared.pkl')"
   ]
  },
  {
   "cell_type": "code",
   "execution_count": 3,
   "id": "c2e5afec-c3cc-461d-8e19-9bb10b3dd7b6",
   "metadata": {},
   "outputs": [],
   "source": [
    "# split the training and test dataset to the input features (x_train, x_test) and the survival class (y_train)\n",
    "y_train = df_train['SalePrice']\n",
    "x_train = df_train.drop(['SalePrice'], axis=1)\n",
    "x_test = df_test"
   ]
  },
  {
   "cell_type": "code",
   "execution_count": 4,
   "id": "2424e39b-0acf-416a-8f37-8ddaaea1af27",
   "metadata": {},
   "outputs": [],
   "source": [
    "scaler_standard = StandardScaler()\n",
    "x_train = scaler_standard.fit_transform(x_train)\n",
    "x_test = scaler_standard.transform(x_test)"
   ]
  },
  {
   "cell_type": "code",
   "execution_count": 18,
   "id": "2ce0aa1c-97e3-404a-bf9e-3a60e234c1da",
   "metadata": {},
   "outputs": [],
   "source": [
    "##Search Space\n",
    "space = {\n",
    "    #'reducedim__n_components': hp.quniform('reducedim__n_components', 20, 200, 10),\n",
    "    'alpha': hp.quniform('alpha', 0, 3, 0.1),\n",
    "    'l1_ratio': hp.quniform('l1_ratio', 0, 1, 0.05)\n",
    "}"
   ]
  },
  {
   "cell_type": "code",
   "execution_count": 19,
   "id": "56043522-dc3d-42d6-9580-8fffd11f9b74",
   "metadata": {},
   "outputs": [],
   "source": [
    "def objective(params):\n",
    "    ml_algo = ElasticNet(**params)\n",
    "    \n",
    "    r2 = cross_val_score(\n",
    "        ml_algo,\n",
    "        x_train,\n",
    "        y_train,\n",
    "        scoring=\"r2\"\n",
    "    ).mean()\n",
    "        \n",
    "    # Dictionary with information for evaluation\n",
    "    return {\n",
    "        'loss': r2,\n",
    "        'params': params,\n",
    "        'status': STATUS_OK\n",
    "    }"
   ]
  },
  {
   "cell_type": "code",
   "execution_count": 24,
   "id": "b73a43b5-ef8a-4ed7-9218-57f49ff2108d",
   "metadata": {},
   "outputs": [
    {
     "name": "stdout",
     "output_type": "stream",
     "text": [
      "optimization starting\n",
      "100%|████████████████████████████████████████████████| 20/20 [00:01<00:00, 16.89trial/s, best loss: 0.8690120052022048]\n",
      "optimization complete\n"
     ]
    }
   ],
   "source": [
    "MAX_EVALS = 20\n",
    "bayes_trials = Trials()\n",
    "\n",
    "print('optimization starting')\n",
    "# Optimize\n",
    "best = fmin(\n",
    "    fn=objective,\n",
    "    space=space,\n",
    "    algo=tpe.suggest,\n",
    "    max_evals=MAX_EVALS,\n",
    "    trials = bayes_trials\n",
    ")\n",
    "print('optimization complete')\n",
    "\n",
    "# best_model = bayes_trials.results[np.argmin([r['loss'] for r in bayes_trials.results])]\n",
    "# params = best_model['params']"
   ]
  },
  {
   "cell_type": "code",
   "execution_count": 25,
   "id": "2a513f70-699e-48a7-a69a-46f452701664",
   "metadata": {},
   "outputs": [
    {
     "name": "stdout",
     "output_type": "stream",
     "text": [
      "{'alpha': 2.5, 'l1_ratio': 0.25}\n"
     ]
    }
   ],
   "source": [
    "print(best)"
   ]
  },
  {
   "cell_type": "code",
   "execution_count": 26,
   "id": "4ab63f60-f9eb-4808-8119-967a585c5254",
   "metadata": {},
   "outputs": [
    {
     "data": {
      "text/plain": [
       "Text(0, 0.5, 'loss')"
      ]
     },
     "execution_count": 26,
     "metadata": {},
     "output_type": "execute_result"
    },
    {
     "data": {
      "image/png": "[encoded data removed]",
      "text/plain": [
       "<Figure size 432x288 with 1 Axes>"
      ]
     },
     "metadata": {
      "needs_background": "light"
     },
     "output_type": "display_data"
    }
   ],
   "source": [
    "xs = [t['misc']['vals']['alpha'] for t in bayes_trials.trials]\n",
    "ys = [-t['result']['loss'] for t in bayes_trials.trials]\n",
    "\n",
    "f, ax = plt.subplots(1)\n",
    "ax.scatter(xs, ys, s=20, linewidth=0.01, alpha=0.5)\n",
    "ax.set_xlabel('alpha', fontsize=12)\n",
    "ax.set_ylabel('loss', fontsize=12)"
   ]
  },
  {
   "cell_type": "code",
   "execution_count": 27,
   "id": "30e21f51-8046-4dbf-931f-ab52b67c1801",
   "metadata": {},
   "outputs": [
    {
     "data": {
      "text/plain": [
       "Text(0, 0.5, 'loss')"
      ]
     },
     "execution_count": 27,
     "metadata": {},
     "output_type": "execute_result"
    },
    {
     "data": {
      "image/png": "[encoded data removed]",
      "text/plain": [
       "<Figure size 432x288 with 1 Axes>"
      ]
     },
     "metadata": {
      "needs_background": "light"
     },
     "output_type": "display_data"
    }
   ],
   "source": [
    "xs = [t['misc']['vals']['l1_ratio'] for t in bayes_trials.trials]\n",
    "ys = [-t['result']['loss'] for t in bayes_trials.trials]\n",
    "\n",
    "f, ax = plt.subplots(1)\n",
    "ax.scatter(xs, ys, s=20, linewidth=0.01, alpha=0.5)\n",
    "ax.set_xlabel('l1_ratio', fontsize=12)\n",
    "ax.set_ylabel('loss', fontsize=12)"
   ]
  },
  {
   "cell_type": "code",
   "execution_count": null,
   "id": "4b473e7e-fd0a-4451-960e-8695e758b392",
   "metadata": {},
   "outputs": [],
   "source": []
  }
 ],
 "metadata": {
  "kernelspec": {
   "display_name": "Python 3 (ipykernel)",
   "language": "python",
   "name": "python3"
  },
  "language_info": {
   "codemirror_mode": {
    "name": "ipython",
    "version": 3
   },
   "file_extension": ".py",
   "mimetype": "text/x-python",
   "name": "python",
   "nbconvert_exporter": "python",
   "pygments_lexer": "ipython3",
   "version": "3.9.7"
  }
 },
 "nbformat": 4,
 "nbformat_minor": 5
}
