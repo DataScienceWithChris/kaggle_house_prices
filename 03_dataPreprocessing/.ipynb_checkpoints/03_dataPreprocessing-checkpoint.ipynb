{
 "cells": [
  {
   "cell_type": "markdown",
   "id": "f1b7d4ff-a0dd-447d-a356-9f8961130afc",
   "metadata": {},
   "source": [
    "# Data Preprocessing of the House Prices Dataset"
   ]
  },
  {
   "cell_type": "code",
   "execution_count": 1,
   "id": "bc6c7c24-0d2a-4021-a549-8d1b86fafda1",
   "metadata": {},
   "outputs": [
    {
     "name": "stdout",
     "output_type": "stream",
     "text": [
      "pandas version: 1.3.4\n",
      "numpy version: 1.20.3\n",
      "matplotlib version: 3.4.3\n",
      "seaborn version: 0.11.2\n"
     ]
    }
   ],
   "source": [
    "# pandas: handle the datasets in the pandas dataframe for data processing and analysis\n",
    "import pandas as pd\n",
    "print(\"pandas version: {}\". format(pd.__version__))\n",
    "\n",
    "# numpy: apply high-level mathematical functions\n",
    "import numpy as np\n",
    "print(\"numpy version: {}\". format(np.__version__))\n",
    "\n",
    "# matplotlib: standard library to create visualizations\n",
    "import matplotlib\n",
    "import matplotlib.pyplot as plt\n",
    "print(\"matplotlib version: {}\". format(matplotlib.__version__))\n",
    "\n",
    "# seaborn: advanced visualization library to create more advanced charts\n",
    "import seaborn as sns\n",
    "print(\"seaborn version: {}\". format(sns.__version__))\n",
    "\n",
    "# turn off warnings for better reading in the Jupyter notebbok\n",
    "pd.options.mode.chained_assignment = None  # default='warn'\n",
    "\n",
    "# show all columns of the pandas dataframe in the jupyter console\n",
    "pd.set_option('display.max_columns', None)"
   ]
  },
  {
   "cell_type": "code",
   "execution_count": 42,
   "id": "d63d3102-06dd-4601-b329-8a11eb030403",
   "metadata": {},
   "outputs": [
    {
     "name": "stdout",
     "output_type": "stream",
     "text": [
      "Number of rows in the training dataset: 1460\n",
      "Number of columns in the training dataset: 80\n",
      "--------------------------------------------------\n",
      "Number of rows in the test dataset: 1459\n",
      "Number of columns in the test dataset: 79\n"
     ]
    }
   ],
   "source": [
    "# load training and test dataset\n",
    "df_train = pd.read_csv('../01_rawdata/train.csv', index_col = \"Id\")\n",
    "df_test = pd.read_csv('../01_rawdata/test.csv', index_col = \"Id\")\n",
    "\n",
    "df_train.name = \"df_train\"\n",
    "df_test.name = \"df_test\"\n",
    "\n",
    "print(\"Number of rows in the training dataset: {}\".format(df_train.shape[0]))\n",
    "print(\"Number of columns in the training dataset: {}\".format(df_train.shape[1]))\n",
    "print(50*\"-\")\n",
    "print(\"Number of rows in the test dataset: {}\".format(df_test.shape[0]))\n",
    "print(\"Number of columns in the test dataset: {}\".format(df_test.shape[1]))"
   ]
  },
  {
   "cell_type": "markdown",
   "id": "3ea4a8fa-6999-4526-a745-741abb5c241c",
   "metadata": {},
   "source": [
    "## Remove Missing Values\n",
    "From the statistic report we already saw that there are missing values in the training and test dataset. With the following function you get a better overview of the missing values.\n",
    "Before we fix or remove outliers we want to remove columns with a lot of missing values. Therefore we have fewer features that could have outliers."
   ]
  },
  {
   "cell_type": "code",
   "execution_count": 43,
   "id": "1d8e2dc7-e225-4a52-9197-60a26b965a0c",
   "metadata": {},
   "outputs": [],
   "source": [
    "def find_missing_values(df):\n",
    "    \"\"\"\n",
    "    find missing values in the dataframe\n",
    "    return the features with missing values, the total number of missing values and the percentage of missing values\n",
    "    \"\"\"\n",
    "    total = df.isnull().sum().sort_values(ascending=False) # compute the total number of missing values\n",
    "    percent = (df.isnull().sum()/df.isnull().count()).sort_values(ascending=False) # compute the percentage of missing values\n",
    "    missing_data = pd.concat([total, percent], axis=1, keys=['Total', 'Percent']) # add all information to one dataframe\n",
    "    missing_data = missing_data[missing_data['Total']>0] # filter the dataframe to only the features with missing values\n",
    "    return missing_data"
   ]
  },
  {
   "cell_type": "code",
   "execution_count": 45,
   "id": "656e0da5-6f1d-4ff5-8b5b-33954450e3cf",
   "metadata": {},
   "outputs": [],
   "source": [
    "df_test['MSZoning'] = df_test['MSZoning'].fillna('RL')\n",
    "df_test['Exterior1st'] = df_test['Exterior1st'].fillna('MetalSd')\n",
    "df_test['Exterior2nd'] = df_test['Exterior2nd'].fillna('MetalSd')\n",
    "df_test['MasVnrType'] = df_test['MasVnrType'].fillna('None')\n",
    "df_test['Functional'] = df_test['Functional'].fillna('Typ')\n",
    "df_test['SaleType'] = df_test['SaleType'].fillna('WD')\n",
    "\n",
    "df_train['MasVnrType'] = df_train['MasVnrType'].fillna('None')\n",
    "df_train['Electrical'] = df_train['Electrical'].fillna('SBrkr')\n",
    "\n",
    "df_train_missing_values = find_missing_values(df_train)\n",
    "df_test_missing_values = find_missing_values(df_test)\n",
    "\n",
    "# drop features with missing values\n",
    "df_train = df_train.drop(df_train_missing_values[df_train_missing_values.Percent > 0.15].index, axis=1)\n",
    "df_test = df_test.drop(df_test_missing_values[df_test_missing_values.Percent > 0.15].index, axis=1)"
   ]
  },
  {
   "cell_type": "code",
   "execution_count": 46,
   "id": "13bf77d0-fb4f-4f9a-8e70-23a02b3fa446",
   "metadata": {},
   "outputs": [
    {
     "data": {
      "text/html": [
       "<div>\n",
       "<style scoped>\n",
       "    .dataframe tbody tr th:only-of-type {\n",
       "        vertical-align: middle;\n",
       "    }\n",
       "\n",
       "    .dataframe tbody tr th {\n",
       "        vertical-align: top;\n",
       "    }\n",
       "\n",
       "    .dataframe thead th {\n",
       "        text-align: right;\n",
       "    }\n",
       "</style>\n",
       "<table border=\"1\" class=\"dataframe\">\n",
       "  <thead>\n",
       "    <tr style=\"text-align: right;\">\n",
       "      <th></th>\n",
       "      <th>Total</th>\n",
       "      <th>Percent</th>\n",
       "    </tr>\n",
       "  </thead>\n",
       "  <tbody>\n",
       "    <tr>\n",
       "      <th>GarageQual</th>\n",
       "      <td>81</td>\n",
       "      <td>0.055479</td>\n",
       "    </tr>\n",
       "    <tr>\n",
       "      <th>GarageType</th>\n",
       "      <td>81</td>\n",
       "      <td>0.055479</td>\n",
       "    </tr>\n",
       "    <tr>\n",
       "      <th>GarageYrBlt</th>\n",
       "      <td>81</td>\n",
       "      <td>0.055479</td>\n",
       "    </tr>\n",
       "    <tr>\n",
       "      <th>GarageFinish</th>\n",
       "      <td>81</td>\n",
       "      <td>0.055479</td>\n",
       "    </tr>\n",
       "    <tr>\n",
       "      <th>GarageCond</th>\n",
       "      <td>81</td>\n",
       "      <td>0.055479</td>\n",
       "    </tr>\n",
       "    <tr>\n",
       "      <th>BsmtFinType2</th>\n",
       "      <td>38</td>\n",
       "      <td>0.026027</td>\n",
       "    </tr>\n",
       "    <tr>\n",
       "      <th>BsmtExposure</th>\n",
       "      <td>38</td>\n",
       "      <td>0.026027</td>\n",
       "    </tr>\n",
       "    <tr>\n",
       "      <th>BsmtCond</th>\n",
       "      <td>37</td>\n",
       "      <td>0.025342</td>\n",
       "    </tr>\n",
       "    <tr>\n",
       "      <th>BsmtFinType1</th>\n",
       "      <td>37</td>\n",
       "      <td>0.025342</td>\n",
       "    </tr>\n",
       "    <tr>\n",
       "      <th>BsmtQual</th>\n",
       "      <td>37</td>\n",
       "      <td>0.025342</td>\n",
       "    </tr>\n",
       "    <tr>\n",
       "      <th>MasVnrArea</th>\n",
       "      <td>8</td>\n",
       "      <td>0.005479</td>\n",
       "    </tr>\n",
       "  </tbody>\n",
       "</table>\n",
       "</div>"
      ],
      "text/plain": [
       "              Total   Percent\n",
       "GarageQual       81  0.055479\n",
       "GarageType       81  0.055479\n",
       "GarageYrBlt      81  0.055479\n",
       "GarageFinish     81  0.055479\n",
       "GarageCond       81  0.055479\n",
       "BsmtFinType2     38  0.026027\n",
       "BsmtExposure     38  0.026027\n",
       "BsmtCond         37  0.025342\n",
       "BsmtFinType1     37  0.025342\n",
       "BsmtQual         37  0.025342\n",
       "MasVnrArea        8  0.005479"
      ]
     },
     "execution_count": 46,
     "metadata": {},
     "output_type": "execute_result"
    }
   ],
   "source": [
    "df_train_missing_values[df_train_missing_values.Percent <= 0.15]"
   ]
  },
  {
   "cell_type": "code",
   "execution_count": 47,
   "id": "5133f504-e628-4559-81f1-3d162dc59461",
   "metadata": {},
   "outputs": [
    {
     "data": {
      "text/html": [
       "<div>\n",
       "<style scoped>\n",
       "    .dataframe tbody tr th:only-of-type {\n",
       "        vertical-align: middle;\n",
       "    }\n",
       "\n",
       "    .dataframe tbody tr th {\n",
       "        vertical-align: top;\n",
       "    }\n",
       "\n",
       "    .dataframe thead th {\n",
       "        text-align: right;\n",
       "    }\n",
       "</style>\n",
       "<table border=\"1\" class=\"dataframe\">\n",
       "  <thead>\n",
       "    <tr style=\"text-align: right;\">\n",
       "      <th></th>\n",
       "      <th>Total</th>\n",
       "      <th>Percent</th>\n",
       "    </tr>\n",
       "  </thead>\n",
       "  <tbody>\n",
       "    <tr>\n",
       "      <th>GarageCond</th>\n",
       "      <td>78</td>\n",
       "      <td>0.053461</td>\n",
       "    </tr>\n",
       "    <tr>\n",
       "      <th>GarageYrBlt</th>\n",
       "      <td>78</td>\n",
       "      <td>0.053461</td>\n",
       "    </tr>\n",
       "    <tr>\n",
       "      <th>GarageFinish</th>\n",
       "      <td>78</td>\n",
       "      <td>0.053461</td>\n",
       "    </tr>\n",
       "    <tr>\n",
       "      <th>GarageQual</th>\n",
       "      <td>78</td>\n",
       "      <td>0.053461</td>\n",
       "    </tr>\n",
       "    <tr>\n",
       "      <th>GarageType</th>\n",
       "      <td>76</td>\n",
       "      <td>0.052090</td>\n",
       "    </tr>\n",
       "    <tr>\n",
       "      <th>BsmtCond</th>\n",
       "      <td>45</td>\n",
       "      <td>0.030843</td>\n",
       "    </tr>\n",
       "    <tr>\n",
       "      <th>BsmtQual</th>\n",
       "      <td>44</td>\n",
       "      <td>0.030158</td>\n",
       "    </tr>\n",
       "    <tr>\n",
       "      <th>BsmtExposure</th>\n",
       "      <td>44</td>\n",
       "      <td>0.030158</td>\n",
       "    </tr>\n",
       "    <tr>\n",
       "      <th>BsmtFinType1</th>\n",
       "      <td>42</td>\n",
       "      <td>0.028787</td>\n",
       "    </tr>\n",
       "    <tr>\n",
       "      <th>BsmtFinType2</th>\n",
       "      <td>42</td>\n",
       "      <td>0.028787</td>\n",
       "    </tr>\n",
       "    <tr>\n",
       "      <th>MasVnrArea</th>\n",
       "      <td>15</td>\n",
       "      <td>0.010281</td>\n",
       "    </tr>\n",
       "    <tr>\n",
       "      <th>BsmtFullBath</th>\n",
       "      <td>2</td>\n",
       "      <td>0.001371</td>\n",
       "    </tr>\n",
       "    <tr>\n",
       "      <th>BsmtHalfBath</th>\n",
       "      <td>2</td>\n",
       "      <td>0.001371</td>\n",
       "    </tr>\n",
       "    <tr>\n",
       "      <th>Utilities</th>\n",
       "      <td>2</td>\n",
       "      <td>0.001371</td>\n",
       "    </tr>\n",
       "    <tr>\n",
       "      <th>BsmtFinSF2</th>\n",
       "      <td>1</td>\n",
       "      <td>0.000685</td>\n",
       "    </tr>\n",
       "    <tr>\n",
       "      <th>GarageArea</th>\n",
       "      <td>1</td>\n",
       "      <td>0.000685</td>\n",
       "    </tr>\n",
       "    <tr>\n",
       "      <th>GarageCars</th>\n",
       "      <td>1</td>\n",
       "      <td>0.000685</td>\n",
       "    </tr>\n",
       "    <tr>\n",
       "      <th>KitchenQual</th>\n",
       "      <td>1</td>\n",
       "      <td>0.000685</td>\n",
       "    </tr>\n",
       "    <tr>\n",
       "      <th>TotalBsmtSF</th>\n",
       "      <td>1</td>\n",
       "      <td>0.000685</td>\n",
       "    </tr>\n",
       "    <tr>\n",
       "      <th>BsmtUnfSF</th>\n",
       "      <td>1</td>\n",
       "      <td>0.000685</td>\n",
       "    </tr>\n",
       "    <tr>\n",
       "      <th>BsmtFinSF1</th>\n",
       "      <td>1</td>\n",
       "      <td>0.000685</td>\n",
       "    </tr>\n",
       "  </tbody>\n",
       "</table>\n",
       "</div>"
      ],
      "text/plain": [
       "              Total   Percent\n",
       "GarageCond       78  0.053461\n",
       "GarageYrBlt      78  0.053461\n",
       "GarageFinish     78  0.053461\n",
       "GarageQual       78  0.053461\n",
       "GarageType       76  0.052090\n",
       "BsmtCond         45  0.030843\n",
       "BsmtQual         44  0.030158\n",
       "BsmtExposure     44  0.030158\n",
       "BsmtFinType1     42  0.028787\n",
       "BsmtFinType2     42  0.028787\n",
       "MasVnrArea       15  0.010281\n",
       "BsmtFullBath      2  0.001371\n",
       "BsmtHalfBath      2  0.001371\n",
       "Utilities         2  0.001371\n",
       "BsmtFinSF2        1  0.000685\n",
       "GarageArea        1  0.000685\n",
       "GarageCars        1  0.000685\n",
       "KitchenQual       1  0.000685\n",
       "TotalBsmtSF       1  0.000685\n",
       "BsmtUnfSF         1  0.000685\n",
       "BsmtFinSF1        1  0.000685"
      ]
     },
     "execution_count": 47,
     "metadata": {},
     "output_type": "execute_result"
    }
   ],
   "source": [
    "df_test_missing_values[df_test_missing_values.Percent <= 0.15]"
   ]
  },
  {
   "cell_type": "markdown",
   "id": "ae3460a9-9563-40f2-8596-a8842c14ca9f",
   "metadata": {},
   "source": [
    "## Fix or Remove Outliers"
   ]
  },
  {
   "cell_type": "code",
   "execution_count": 51,
   "id": "07d8ad86-1c39-416e-bcac-eeedaae9c1df",
   "metadata": {},
   "outputs": [],
   "source": [
    "# use isolation forest algorithm to find and delete outliers\n",
    "from sklearn.ensemble import IsolationForest\n",
    "\n",
    "col_train_numeric = list(df_train.drop(\"SalePrice\", axis='columns').describe())\n",
    "df_train_tmp = df_train.dropna(axis='index')\n",
    "\n",
    "model=IsolationForest(n_estimators=100,max_samples='auto')\n",
    "model.fit(df_train_tmp[col_train_numeric])\n",
    "\n",
    "df_train_tmp['scores'] = model.decision_function(df_train_tmp[col_train_numeric])\n",
    "df_train_tmp['anomaly_score'] = model.predict(df_train_tmp[col_train_numeric])"
   ]
  },
  {
   "cell_type": "code",
   "execution_count": 52,
   "id": "db122696-1a7c-4313-a13d-2adf050e029e",
   "metadata": {},
   "outputs": [],
   "source": [
    "df_train = df_train.drop(\n",
    "    list(df_train_tmp[df_train_tmp['anomaly_score']==-1][col_train_numeric].index),\n",
    "    axis='index'\n",
    ")"
   ]
  },
  {
   "cell_type": "markdown",
   "id": "195baa40-8251-4aca-9a8c-77cd55b6f412",
   "metadata": {},
   "source": [
    "## Fix Missing Values"
   ]
  },
  {
   "cell_type": "code",
   "execution_count": 53,
   "id": "416a4aef-f582-486f-b753-e073bc8c6d04",
   "metadata": {},
   "outputs": [],
   "source": [
    "from sklearn.neighbors import KNeighborsClassifier\n",
    "from sklearn.neighbors import KNeighborsRegressor\n",
    "from sklearn.preprocessing import OneHotEncoder, StandardScaler, LabelEncoder\n",
    "from sklearn.compose import ColumnTransformer\n",
    "from sklearn.pipeline import Pipeline\n",
    "\n",
    "import warnings\n",
    "from sklearn.exceptions import DataConversionWarning\n",
    "warnings.filterwarnings(action='ignore', category=DataConversionWarning)\n",
    "\n",
    "pd.options.mode.chained_assignment = None  # default='warn'"
   ]
  },
  {
   "cell_type": "code",
   "execution_count": 54,
   "id": "5ada4f87-a1f1-48b2-bf22-d5057a222408",
   "metadata": {},
   "outputs": [],
   "source": [
    "def imput_missing_values_KNN(df, column):\n",
    "    # find the columns with missing values and store the column name as list\n",
    "    cols_nan = df.columns[df.isna().any()].tolist()\n",
    "\n",
    "    # remove out feature from the list that we want to predict\n",
    "    cols_nan.remove(column)\n",
    "\n",
    "    # drop all other features with missing values to that only missing values of column are in the dataset\n",
    "    df_tmp = df.drop(cols_nan, axis=\"columns\")\n",
    "    \n",
    "    # the test data are the samples with missing values\n",
    "    df_test = df_tmp.loc[(df[column].isnull())]  # null samples for feature\n",
    "    df_train = df_tmp.loc[(df[column].notnull())]  # known samples for feature\n",
    "\n",
    "    df_train_y = df_train[[column]]\n",
    "    df_train.drop(columns=[column], inplace=True)\n",
    "    df_train.dropna(axis='columns', inplace=True) # drop the columns that contain missing values\n",
    "\n",
    "    df_test_x = df_test[df_train.columns] # the test dataset can only contain features from the training\n",
    "\n",
    "\n",
    "    if df[column].dtypes not in ('int64','float64'):\n",
    "        # categoric lables have to be encoded with the label encoder\n",
    "        le = LabelEncoder()\n",
    "        df_train_y = le.fit_transform(df_train_y)\n",
    "    \n",
    "        # use the KNN Classifier algorithm to fill the missing values\n",
    "        knr = KNeighborsClassifier(n_neighbors=5)\n",
    "    \n",
    "    else:\n",
    "        # use the KNN regression algorithm to fill the missing values\n",
    "        knr = KNeighborsRegressor(n_neighbors=5)\n",
    "    \n",
    "\n",
    "    # define the categoric and numeric features for the column transformation\n",
    "    categorical_features = list(df_train.describe(include=\"O\"))\n",
    "    numeric_features = list(df_train.describe())\n",
    "\n",
    "    col_transform = ColumnTransformer(\n",
    "            transformers=[\n",
    "                ('cat', OneHotEncoder(handle_unknown='ignore'), categorical_features),\n",
    "                ('num', StandardScaler(), numeric_features)\n",
    "            ]\n",
    "        )\n",
    "\n",
    "    # define pipeline\n",
    "    pipeline = Pipeline(steps=[\n",
    "        ('columnprep', col_transform),\n",
    "        ('classification', knr)\n",
    "    ])\n",
    "    \n",
    "    \n",
    "    # train the KNN Classifier\n",
    "    pipeline.fit(df_train, df_train_y)\n",
    "    print(\"Accuracy score - {}: {:.2f}\".format(column, pipeline.score(df_train, df_train_y)))\n",
    "\n",
    "    # predict the missing values\n",
    "    df_test_y = pipeline.predict(df_test_x)\n",
    "\n",
    "    if df[column].dtypes not in ('int64','float64'):\n",
    "        # retransform the missing values into labels\n",
    "        df_test_y = le.inverse_transform(df_test_y)\n",
    "\n",
    "    # fill the missing values in the original dataset with the predicted values\n",
    "    df.loc[(df[column].isnull()), column] = df_test_y\n",
    "    \n",
    "    return df"
   ]
  },
  {
   "cell_type": "code",
   "execution_count": 55,
   "id": "b4c99191-54dc-47da-a7de-f6cc95e97939",
   "metadata": {},
   "outputs": [
    {
     "name": "stdout",
     "output_type": "stream",
     "text": [
      "Accuracy score - GarageType: 0.85\n",
      "Accuracy score - GarageYrBlt: 0.83\n",
      "Accuracy score - GarageFinish: 0.78\n",
      "Accuracy score - GarageQual: 0.96\n",
      "Accuracy score - GarageCond: 0.97\n",
      "Accuracy score - BsmtFinType2: 0.92\n",
      "Accuracy score - BsmtExposure: 0.76\n",
      "Accuracy score - BsmtFinType1: 0.70\n",
      "Accuracy score - BsmtCond: 0.93\n",
      "Accuracy score - BsmtQual: 0.86\n",
      "Accuracy score - MasVnrArea: 0.59\n"
     ]
    }
   ],
   "source": [
    "for column in find_missing_values(df_train).index:\n",
    "    df_train = imput_missing_values_KNN(df_train, column)"
   ]
  },
  {
   "cell_type": "code",
   "execution_count": 56,
   "id": "b124e309-c7da-44f2-833b-6eb636d1667a",
   "metadata": {},
   "outputs": [
    {
     "data": {
      "text/html": [
       "<div>\n",
       "<style scoped>\n",
       "    .dataframe tbody tr th:only-of-type {\n",
       "        vertical-align: middle;\n",
       "    }\n",
       "\n",
       "    .dataframe tbody tr th {\n",
       "        vertical-align: top;\n",
       "    }\n",
       "\n",
       "    .dataframe thead th {\n",
       "        text-align: right;\n",
       "    }\n",
       "</style>\n",
       "<table border=\"1\" class=\"dataframe\">\n",
       "  <thead>\n",
       "    <tr style=\"text-align: right;\">\n",
       "      <th></th>\n",
       "      <th>Total</th>\n",
       "      <th>Percent</th>\n",
       "    </tr>\n",
       "  </thead>\n",
       "  <tbody>\n",
       "  </tbody>\n",
       "</table>\n",
       "</div>"
      ],
      "text/plain": [
       "Empty DataFrame\n",
       "Columns: [Total, Percent]\n",
       "Index: []"
      ]
     },
     "execution_count": 56,
     "metadata": {},
     "output_type": "execute_result"
    }
   ],
   "source": [
    "df_train_missing_values = find_missing_values(df_train)\n",
    "df_train_missing_values"
   ]
  },
  {
   "cell_type": "code",
   "execution_count": 57,
   "id": "675262a5-c8cb-4042-b7f9-ee29e4069576",
   "metadata": {},
   "outputs": [
    {
     "name": "stdout",
     "output_type": "stream",
     "text": [
      "Accuracy score - GarageYrBlt: 0.78\n",
      "Accuracy score - GarageFinish: 0.75\n",
      "Accuracy score - GarageCond: 0.96\n",
      "Accuracy score - GarageQual: 0.94\n",
      "Accuracy score - GarageType: 0.84\n",
      "Accuracy score - BsmtCond: 0.92\n",
      "Accuracy score - BsmtQual: 0.85\n",
      "Accuracy score - BsmtExposure: 0.78\n",
      "Accuracy score - BsmtFinType1: 0.62\n",
      "Accuracy score - BsmtFinType2: 0.88\n",
      "Accuracy score - MasVnrArea: 0.64\n",
      "Accuracy score - BsmtFullBath: 0.46\n",
      "Accuracy score - BsmtHalfBath: 0.35\n",
      "Accuracy score - Utilities: 1.00\n",
      "Accuracy score - GarageArea: 0.62\n",
      "Accuracy score - GarageCars: 0.77\n",
      "Accuracy score - KitchenQual: 0.84\n",
      "Accuracy score - BsmtFinSF1: 0.71\n",
      "Accuracy score - BsmtFinSF2: 0.46\n",
      "Accuracy score - BsmtUnfSF: 0.72\n",
      "Accuracy score - TotalBsmtSF: 0.80\n"
     ]
    }
   ],
   "source": [
    "for column in find_missing_values(df_test).index:\n",
    "    df_test = imput_missing_values_KNN(df_test, column)"
   ]
  },
  {
   "cell_type": "code",
   "execution_count": 58,
   "id": "d0972c9a-b576-471c-88b3-de03f15bd478",
   "metadata": {},
   "outputs": [
    {
     "data": {
      "text/html": [
       "<div>\n",
       "<style scoped>\n",
       "    .dataframe tbody tr th:only-of-type {\n",
       "        vertical-align: middle;\n",
       "    }\n",
       "\n",
       "    .dataframe tbody tr th {\n",
       "        vertical-align: top;\n",
       "    }\n",
       "\n",
       "    .dataframe thead th {\n",
       "        text-align: right;\n",
       "    }\n",
       "</style>\n",
       "<table border=\"1\" class=\"dataframe\">\n",
       "  <thead>\n",
       "    <tr style=\"text-align: right;\">\n",
       "      <th></th>\n",
       "      <th>Total</th>\n",
       "      <th>Percent</th>\n",
       "    </tr>\n",
       "  </thead>\n",
       "  <tbody>\n",
       "  </tbody>\n",
       "</table>\n",
       "</div>"
      ],
      "text/plain": [
       "Empty DataFrame\n",
       "Columns: [Total, Percent]\n",
       "Index: []"
      ]
     },
     "execution_count": 58,
     "metadata": {},
     "output_type": "execute_result"
    }
   ],
   "source": [
    "df_test_missing_values = find_missing_values(df_test)\n",
    "df_test_missing_values"
   ]
  },
  {
   "cell_type": "markdown",
   "id": "70c14f79-8c18-47a9-94aa-6073db1140b6",
   "metadata": {},
   "source": [
    "## Feature Transformation"
   ]
  },
  {
   "cell_type": "markdown",
   "id": "0e7c0460-88fb-4a00-b4b5-4f6c0b8a0f13",
   "metadata": {},
   "source": [
    "### Create new Features"
   ]
  },
  {
   "cell_type": "code",
   "execution_count": 59,
   "id": "e5f88e3f-615d-4951-9dea-bf9fadf1acdd",
   "metadata": {},
   "outputs": [],
   "source": [
    "df_train['YrBltAndRemod'] = df_train['YearBuilt'] + df_train['YearRemodAdd']\n",
    "df_train['TotalSF'] = df_train['TotalBsmtSF'] + df_train['1stFlrSF'] + df_train['2ndFlrSF']\n",
    "df_train['Total_sqr_footage'] = (df_train['BsmtFinSF1'] + df_train['BsmtFinSF2'] + df_train['1stFlrSF'] + df_train['2ndFlrSF'])\n",
    "df_train['Total_Bathrooms'] = (df_train['FullBath'] + (0.5 * df_train['HalfBath']) + df_train['BsmtFullBath'] + (0.5 * df_train['BsmtHalfBath']))\n",
    "df_train['Total_porch_sf'] = (df_train['OpenPorchSF'] + df_train['3SsnPorch'] + df_train['EnclosedPorch'] + df_train['ScreenPorch'] + df_train['WoodDeckSF'])\n",
    "\n",
    "df_train['haspool'] = df_train['PoolArea'].apply(lambda x: 1 if x > 0 else 0)\n",
    "df_train['has2ndfloor'] = df_train['2ndFlrSF'].apply(lambda x: 1 if x > 0 else 0)\n",
    "df_train['hasgarage'] = df_train['GarageArea'].apply(lambda x: 1 if x > 0 else 0)\n",
    "df_train['hasbsmt'] = df_train['TotalBsmtSF'].apply(lambda x: 1 if x > 0 else 0)\n",
    "df_train['hasfireplace'] = df_train['Fireplaces'].apply(lambda x: 1 if x > 0 else 0)\n",
    "\n",
    "\n",
    "df_test['YrBltAndRemod'] = df_test['YearBuilt'] + df_test['YearRemodAdd']\n",
    "df_test['TotalSF'] = df_test['TotalBsmtSF'] + df_test['1stFlrSF'] + df_test['2ndFlrSF']\n",
    "df_test['Total_sqr_footage'] = (df_test['BsmtFinSF1'] + df_test['BsmtFinSF2'] + df_test['1stFlrSF'] + df_test['2ndFlrSF'])\n",
    "df_test['Total_Bathrooms'] = (df_test['FullBath'] + (0.5 * df_test['HalfBath']) + df_test['BsmtFullBath'] + (0.5 * df_test['BsmtHalfBath']))\n",
    "df_test['Total_porch_sf'] = (df_test['OpenPorchSF'] + df_test['3SsnPorch'] + df_test['EnclosedPorch'] + df_test['ScreenPorch'] + df_test['WoodDeckSF'])\n",
    "\n",
    "df_test['haspool'] = df_test['PoolArea'].apply(lambda x: 1 if x > 0 else 0)\n",
    "df_test['has2ndfloor'] = df_test['2ndFlrSF'].apply(lambda x: 1 if x > 0 else 0)\n",
    "df_test['hasgarage'] = df_test['GarageArea'].apply(lambda x: 1 if x > 0 else 0)\n",
    "df_test['hasbsmt'] = df_test['TotalBsmtSF'].apply(lambda x: 1 if x > 0 else 0)\n",
    "df_test['hasfireplace'] = df_test['Fireplaces'].apply(lambda x: 1 if x > 0 else 0)"
   ]
  },
  {
   "cell_type": "markdown",
   "id": "19b4cbf2-8671-4c4a-bb09-2b430bd51a5e",
   "metadata": {},
   "source": [
    "### Transform Skewed Features"
   ]
  },
  {
   "cell_type": "code",
   "execution_count": 60,
   "id": "3206fbaa-e317-4a7f-adb7-6d89f5238e06",
   "metadata": {},
   "outputs": [
    {
     "data": {
      "text/html": [
       "<div>\n",
       "<style scoped>\n",
       "    .dataframe tbody tr th:only-of-type {\n",
       "        vertical-align: middle;\n",
       "    }\n",
       "\n",
       "    .dataframe tbody tr th {\n",
       "        vertical-align: top;\n",
       "    }\n",
       "\n",
       "    .dataframe thead th {\n",
       "        text-align: right;\n",
       "    }\n",
       "</style>\n",
       "<table border=\"1\" class=\"dataframe\">\n",
       "  <thead>\n",
       "    <tr style=\"text-align: right;\">\n",
       "      <th></th>\n",
       "      <th>skewness</th>\n",
       "      <th>skewness_no_zero</th>\n",
       "      <th>unique_values</th>\n",
       "    </tr>\n",
       "  </thead>\n",
       "  <tbody>\n",
       "    <tr>\n",
       "      <th>MiscVal</th>\n",
       "      <td>30.312888</td>\n",
       "      <td>5.889631</td>\n",
       "      <td>18</td>\n",
       "    </tr>\n",
       "    <tr>\n",
       "      <th>3SsnPorch</th>\n",
       "      <td>10.074207</td>\n",
       "      <td>1.205196</td>\n",
       "      <td>20</td>\n",
       "    </tr>\n",
       "    <tr>\n",
       "      <th>LowQualFinSF</th>\n",
       "      <td>9.934124</td>\n",
       "      <td>-0.127490</td>\n",
       "      <td>20</td>\n",
       "    </tr>\n",
       "    <tr>\n",
       "      <th>LotArea</th>\n",
       "      <td>7.081737</td>\n",
       "      <td>7.081737</td>\n",
       "      <td>1027</td>\n",
       "    </tr>\n",
       "    <tr>\n",
       "      <th>BsmtFinSF2</th>\n",
       "      <td>4.400912</td>\n",
       "      <td>1.042883</td>\n",
       "      <td>133</td>\n",
       "    </tr>\n",
       "    <tr>\n",
       "      <th>ScreenPorch</th>\n",
       "      <td>4.096671</td>\n",
       "      <td>0.751836</td>\n",
       "      <td>66</td>\n",
       "    </tr>\n",
       "    <tr>\n",
       "      <th>EnclosedPorch</th>\n",
       "      <td>2.835052</td>\n",
       "      <td>0.128399</td>\n",
       "      <td>112</td>\n",
       "    </tr>\n",
       "    <tr>\n",
       "      <th>MasVnrArea</th>\n",
       "      <td>2.586153</td>\n",
       "      <td>2.130190</td>\n",
       "      <td>316</td>\n",
       "    </tr>\n",
       "    <tr>\n",
       "      <th>OpenPorchSF</th>\n",
       "      <td>2.019373</td>\n",
       "      <td>1.853181</td>\n",
       "      <td>189</td>\n",
       "    </tr>\n",
       "    <tr>\n",
       "      <th>WoodDeckSF</th>\n",
       "      <td>1.438807</td>\n",
       "      <td>1.454977</td>\n",
       "      <td>260</td>\n",
       "    </tr>\n",
       "    <tr>\n",
       "      <th>MSSubClass</th>\n",
       "      <td>1.401216</td>\n",
       "      <td>1.401216</td>\n",
       "      <td>15</td>\n",
       "    </tr>\n",
       "    <tr>\n",
       "      <th>SalePrice</th>\n",
       "      <td>1.201586</td>\n",
       "      <td>1.201586</td>\n",
       "      <td>634</td>\n",
       "    </tr>\n",
       "  </tbody>\n",
       "</table>\n",
       "</div>"
      ],
      "text/plain": [
       "                skewness  skewness_no_zero  unique_values\n",
       "MiscVal        30.312888          5.889631             18\n",
       "3SsnPorch      10.074207          1.205196             20\n",
       "LowQualFinSF    9.934124         -0.127490             20\n",
       "LotArea         7.081737          7.081737           1027\n",
       "BsmtFinSF2      4.400912          1.042883            133\n",
       "ScreenPorch     4.096671          0.751836             66\n",
       "EnclosedPorch   2.835052          0.128399            112\n",
       "MasVnrArea      2.586153          2.130190            316\n",
       "OpenPorchSF     2.019373          1.853181            189\n",
       "WoodDeckSF      1.438807          1.454977            260\n",
       "MSSubClass      1.401216          1.401216             15\n",
       "SalePrice       1.201586          1.201586            634"
      ]
     },
     "execution_count": 60,
     "metadata": {},
     "output_type": "execute_result"
    }
   ],
   "source": [
    "from scipy.stats import skew\n",
    "def compute_skewed_features(df):\n",
    "    \"\"\"\n",
    "    compute the skewness of all numeric features and the total number of unique values\n",
    "    return only the features that have a relevant skewness\n",
    "    \"\"\"\n",
    "    numeric_feats = df.dtypes[df.dtypes != \"object\"].index\n",
    "    skewed_feats = pd.DataFrame(index=numeric_feats, columns=['skewness', 'skewness_no_zero', 'unique_values'])\n",
    "    skewed_feats['skewness'] = df[numeric_feats].apply(lambda x: skew(x))\n",
    "    skewed_feats['skewness_no_zero'] = df[numeric_feats].apply(lambda x: skew(x[x != 0]))\n",
    "    skewed_feats['unique_values'] = df.nunique()\n",
    "    skewed_feats = skewed_feats[(skewed_feats['unique_values'] >= 10) & ((skewed_feats['skewness'] > 1) | (skewed_feats['skewness'] < -1))]\n",
    "\n",
    "    return skewed_feats\n",
    "\n",
    "skewed_feats = compute_skewed_features(df_train)\n",
    "skewed_feats.sort_values(by=[\"skewness\", \"unique_values\"], ascending=False)"
   ]
  },
  {
   "cell_type": "code",
   "execution_count": 61,
   "id": "3ec71659-7173-40b1-bdeb-82f3c6fac8e0",
   "metadata": {},
   "outputs": [
    {
     "data": {
      "image/png": "[encoded data removed]",
      "text/plain": [
       "<Figure size 720x360 with 2 Axes>"
      ]
     },
     "metadata": {
      "needs_background": "light"
     },
     "output_type": "display_data"
    },
    {
     "data": {
      "image/png": "[encoded data removed]",
      "text/plain": [
       "<Figure size 720x360 with 2 Axes>"
      ]
     },
     "metadata": {
      "needs_background": "light"
     },
     "output_type": "display_data"
    },
    {
     "data": {
      "image/png": "[encoded data removed]",
      "text/plain": [
       "<Figure size 720x360 with 2 Axes>"
      ]
     },
     "metadata": {
      "needs_background": "light"
     },
     "output_type": "display_data"
    },
    {
     "data": {
      "image/png": "[encoded data removed]",
      "text/plain": [
       "<Figure size 720x360 with 2 Axes>"
      ]
     },
     "metadata": {
      "needs_background": "light"
     },
     "output_type": "display_data"
    },
    {
     "data": {
      "image/png": "[encoded data removed]",
      "text/plain": [
       "<Figure size 720x360 with 2 Axes>"
      ]
     },
     "metadata": {
      "needs_background": "light"
     },
     "output_type": "display_data"
    },
    {
     "data": {
      "image/png": "[encoded data removed]",
      "text/plain": [
       "<Figure size 720x360 with 2 Axes>"
      ]
     },
     "metadata": {
      "needs_background": "light"
     },
     "output_type": "display_data"
    },
    {
     "data": {
      "image/png": "[encoded data removed]",
      "text/plain": [
       "<Figure size 720x360 with 2 Axes>"
      ]
     },
     "metadata": {
      "needs_background": "light"
     },
     "output_type": "display_data"
    },
    {
     "data": {
      "image/png": "[encoded data removed]",
      "text/plain": [
       "<Figure size 720x360 with 2 Axes>"
      ]
     },
     "metadata": {
      "needs_background": "light"
     },
     "output_type": "display_data"
    },
    {
     "data": {
      "image/png": "[encoded data removed]",
      "text/plain": [
       "<Figure size 720x360 with 2 Axes>"
      ]
     },
     "metadata": {
      "needs_background": "light"
     },
     "output_type": "display_data"
    },
    {
     "data": {
      "image/png": "[encoded data removed]",
      "text/plain": [
       "<Figure size 720x360 with 2 Axes>"
      ]
     },
     "metadata": {
      "needs_background": "light"
     },
     "output_type": "display_data"
    },
    {
     "data": {
      "image/png": "[encoded data removed]",
      "text/plain": [
       "<Figure size 720x360 with 2 Axes>"
      ]
     },
     "metadata": {
      "needs_background": "light"
     },
     "output_type": "display_data"
    },
    {
     "data": {
      "image/png": "[encoded data removed]",
      "text/plain": [
       "<Figure size 720x360 with 2 Axes>"
      ]
     },
     "metadata": {
      "needs_background": "light"
     },
     "output_type": "display_data"
    }
   ],
   "source": [
    "import scipy.stats as stats\n",
    "\n",
    "skewed_features = list(skewed_feats.index)\n",
    "#skewed_features.remove('SalePrice')\n",
    "\n",
    "for col in skewed_features:\n",
    "    # plot the influence of the skewed features on the target variable\n",
    "    # jointplot of SalePrice with itself is not possible\n",
    "    if col != \"SalePrice\":\n",
    "        graph = sns.jointplot(data=df_train, x=col, y=\"SalePrice\", kind=\"reg\")\n",
    "        df_ = df_train[[col, \"SalePrice\"]].dropna(axis='index')\n",
    "        r, p = stats.pearsonr(df_[col], df_[\"SalePrice\"])\n",
    "        phantom, = graph.ax_joint.plot([], [], linestyle=\"\", alpha=0)\n",
    "        graph.ax_joint.legend([phantom],['r={:f}, p={:f}'.format(r,p)])\n",
    "\n",
    "        graph.figure.set_size_inches(18.5, 10.5)\n",
    "        graph.savefig(\"influence_numerical_features/{}.png\".format(col))\n",
    "        plt.close()\n",
    "    \n",
    "    # show the skewdness of each feature before and after a possible log transformation\n",
    "    col_tmp = df_train[col].apply(np.log)\n",
    "    col_tmp[np.isneginf(col_tmp)]=0\n",
    "    \n",
    "    fig, (ax1, ax2) = plt.subplots(1, 2, figsize=(10,5))\n",
    "    sns.histplot(df_train[col], ax=ax1)\n",
    "    sns.histplot(col_tmp, ax=ax2)\n",
    "    ax1.title.set_text(\"Skewness : %.2f\"%(df_train[col].skew()))\n",
    "    ax2.title.set_text(\"Skewness : %.2f\"%(col_tmp.skew()))\n",
    "    fig.savefig(\"skewness_features/{}.png\".format(col))\n",
    "    plt.show()\n",
    "    plt.close()"
   ]
  },
  {
   "cell_type": "markdown",
   "id": "410d91ab-80e5-4323-ae7e-768295784ec9",
   "metadata": {},
   "source": [
    "After visualizing the columns that are skewed we transform some of the columns. Most columns are calculated as skewed because they have a lot of 0 values.\n",
    "- LotArea (log transform)\n",
    "- MasVnrArea (do nothing)\n",
    "- MiscVal (delete value > 14000)"
   ]
  },
  {
   "cell_type": "code",
   "execution_count": 62,
   "id": "1a49a082-f635-4274-b034-91b3868d964c",
   "metadata": {},
   "outputs": [],
   "source": [
    "df_train = df_train[df_train[\"MiscVal\"] < 14000]"
   ]
  },
  {
   "cell_type": "code",
   "execution_count": 63,
   "id": "3a888d38-661e-4b42-ba16-a87b2a73fe54",
   "metadata": {},
   "outputs": [
    {
     "data": {
      "image/png": "[encoded data removed]",
      "text/plain": [
       "<Figure size 360x360 with 1 Axes>"
      ]
     },
     "metadata": {
      "needs_background": "light"
     },
     "output_type": "display_data"
    },
    {
     "data": {
      "image/png": "[encoded data removed]",
      "text/plain": [
       "<Figure size 360x360 with 1 Axes>"
      ]
     },
     "metadata": {
      "needs_background": "light"
     },
     "output_type": "display_data"
    }
   ],
   "source": [
    "for feature in ['LotArea']:\n",
    "    \n",
    "    # view the distribution of Fare after the log transformation with the skewness\n",
    "    df_merge = pd.concat([df_train, df_test])\n",
    "    g = sns.displot(df_merge[feature])\n",
    "    plt.title(\"Skewness : %.2f\"%(df_merge[feature].skew()))\n",
    "    plt.show()\n",
    "    \n",
    "    df_train[feature] = df_train[feature].apply(np.log)\n",
    "    df_test[feature] = df_test[feature].apply(np.log)\n",
    "\n",
    "    # the not transformed data that contains 0\n",
    "    # after the transformation we have -inf values that have to be replaced by 0\n",
    "    df_train[feature][np.isneginf(df_train[feature])]=0\n",
    "    df_test[feature][np.isneginf(df_test[feature])]=0\n",
    "\n",
    "    # view the distribution of Fare after the log transformation with the skewness\n",
    "    df_merge = pd.concat([df_train, df_test])\n",
    "    g = sns.displot(df_merge[feature])\n",
    "    plt.title(\"Skewness : %.2f\"%(df_merge[feature].skew()))\n",
    "    plt.show()"
   ]
  },
  {
   "cell_type": "markdown",
   "id": "29e93b93-3274-415b-a810-45382d87bf6e",
   "metadata": {},
   "source": [
    "## Transform Categoric Features to Numeric"
   ]
  },
  {
   "cell_type": "code",
   "execution_count": 64,
   "id": "a23b57a9-8444-4944-8f38-bcbb16f1f491",
   "metadata": {},
   "outputs": [],
   "source": [
    "from sklearn.preprocessing import OneHotEncoder\n",
    "enc = OneHotEncoder(handle_unknown='ignore', sparse=False)\n",
    "cat_vars = df_train.dtypes[df_train.dtypes == \"object\"].index"
   ]
  },
  {
   "cell_type": "code",
   "execution_count": 65,
   "id": "5a0b9e3b-8a43-48cf-9d83-9dfbda5a456e",
   "metadata": {},
   "outputs": [
    {
     "name": "stdout",
     "output_type": "stream",
     "text": [
      "df_train old shape: (1399, 84)\n",
      "ohe_train old shape: (1399, 230)\n",
      "df_train new shape: (1399, 276)\n"
     ]
    }
   ],
   "source": [
    "ohe_train = pd.DataFrame(enc.fit_transform(df_train[cat_vars]), columns=enc.get_feature_names())\n",
    "print(\"df_train old shape: \" + str(df_train.shape))\n",
    "print(\"ohe_train old shape: \" + str(ohe_train.shape))\n",
    "\n",
    "df_train.reset_index(drop=True, inplace=True)\n",
    "df_train = df_train.drop(cat_vars, axis=1)\n",
    "\n",
    "ohe_train.reset_index(drop=True, inplace=True)\n",
    "\n",
    "df_train = pd.concat([df_train, ohe_train], axis=1)\n",
    "print(\"df_train new shape: \" + str(df_train.shape))"
   ]
  },
  {
   "cell_type": "code",
   "execution_count": 66,
   "id": "d976f006-9921-4bdc-9ce1-f8a16af2b243",
   "metadata": {},
   "outputs": [
    {
     "name": "stdout",
     "output_type": "stream",
     "text": [
      "df_test old shape: (1459, 83)\n",
      "ohe_test old shape: (1459, 230)\n",
      "df_test new shape: (1459, 275)\n"
     ]
    }
   ],
   "source": [
    "ohe_test = pd.DataFrame(enc.transform(df_test[cat_vars]), columns=enc.get_feature_names())\n",
    "print(\"df_test old shape: \" + str(df_test.shape))\n",
    "print(\"ohe_test old shape: \" + str(ohe_test.shape))\n",
    "\n",
    "df_test.reset_index(drop=True, inplace=True)\n",
    "df_test = df_test.drop(cat_vars, axis=1)\n",
    "\n",
    "ohe_test.reset_index(drop=True, inplace=True)\n",
    "\n",
    "df_test = pd.concat([df_test, ohe_test], axis=1)\n",
    "print(\"df_test new shape: \" + str(df_test.shape))"
   ]
  },
  {
   "cell_type": "markdown",
   "id": "9b2362de-a589-4b94-bfba-b5e4a3138a25",
   "metadata": {},
   "source": [
    "## Feature Selection"
   ]
  },
  {
   "cell_type": "markdown",
   "id": "49adaf75-2be4-40bb-b5d3-6b36e86c335b",
   "metadata": {},
   "source": [
    "### Drop Features with Low Variance"
   ]
  },
  {
   "cell_type": "code",
   "execution_count": 67,
   "id": "1ed537d9-4def-4c58-9332-8da86d4d2947",
   "metadata": {},
   "outputs": [
    {
     "name": "stdout",
     "output_type": "stream",
     "text": [
      "df_train shape: (1399, 129)\n",
      "df_test shape: (1459, 128)\n"
     ]
    }
   ],
   "source": [
    "from sklearn.feature_selection import VarianceThreshold\n",
    "\n",
    "# remove all features that are either one or zero in more than 95% of the samples\n",
    "sel = VarianceThreshold(threshold=(.95 * (1 - .95)))\n",
    "sel_features = list(df_train)\n",
    "\n",
    "# remove the label from the list of columns\n",
    "sel_features.remove(\"SalePrice\")\n",
    "\n",
    "# fit the VarianceThreshold object to the training data\n",
    "sel.fit(df_train[sel_features])\n",
    "\n",
    "# get the column names after the variance threshold reduction\n",
    "sel_features_reduced = [sel_features[i] for i in sel.get_support(indices=True)]\n",
    "\n",
    "# create the training and test dataset by transform the datasets to the variance threshold object\n",
    "df_train_ = pd.DataFrame(sel.transform(df_train[sel_features]), columns=sel_features_reduced)\n",
    "# dont forget to join the label back to the training data\n",
    "df_train = pd.concat([df_train_, df_train[\"SalePrice\"]], axis=1)\n",
    "\n",
    "# apply the result for the training data also to the test dataset\n",
    "df_test = pd.DataFrame(sel.transform(df_test[sel_features]), columns=sel_features_reduced)\n",
    "\n",
    "print(\"df_train shape: \" + str(df_train.shape))\n",
    "print(\"df_test shape: \" + str(df_test.shape))"
   ]
  },
  {
   "cell_type": "markdown",
   "id": "f845a8ac-54d1-4586-b858-e4bceabe8c77",
   "metadata": {},
   "source": [
    "### Drop Features with a High Correlation\n",
    "If two or more features have a high correlation, only one feature add information to the machine learning algorithm. Multiple features with a high correlation can lead to overfitting, like coping a feature 10 times does not add any useful information to the dataset. Therefore we calculate the Pearson correlation between each feature."
   ]
  },
  {
   "cell_type": "code",
   "execution_count": 68,
   "id": "bfb1306e-90c1-4530-b308-adac9e068ccd",
   "metadata": {},
   "outputs": [
    {
     "name": "stderr",
     "output_type": "stream",
     "text": [
      "C:\\Users\\chris\\AppData\\Local\\Temp/ipykernel_2176/1501349958.py:4: DeprecationWarning: `np.bool` is a deprecated alias for the builtin `bool`. To silence this warning, use `bool` by itself. Doing this will not modify any behavior and is safe. If you specifically wanted the numpy scalar type, use `np.bool_` here.\n",
      "Deprecated in NumPy 1.20; for more details and guidance: https://numpy.org/devdocs/release/1.20.0-notes.html#deprecations\n",
      "  upper = corr_matrix.where(np.triu(np.ones(corr_matrix.shape), k=1).astype(np.bool))\n"
     ]
    },
    {
     "name": "stdout",
     "output_type": "stream",
     "text": [
      "YrBltAndRemod <-> YearBuilt: 0.931133217134089\n",
      "has2ndfloor <-> 2ndFlrSF: 0.9254386283667169\n",
      "hasfireplace <-> Fireplaces: 0.9080703605789977\n",
      "x2_Reg <-> x2_IR1: -0.9357232956864744\n",
      "x12_Hip <-> x12_Gable: -0.9390450276408472\n",
      "x15_MetalSd <-> x14_MetalSd: 0.9749319413069895\n",
      "x15_VinylSd <-> x14_VinylSd: 0.9782556782078171\n",
      "x17_TA <-> x17_Gd: -0.9263809639086735\n",
      "x27_Y <-> x27_N: -1.0\n",
      "x37_Partial <-> x36_New: 0.9858323627904887\n"
     ]
    }
   ],
   "source": [
    "corr_matrix = df_train.corr().abs()\n",
    "\n",
    "# Select upper triangle of correlation matrix\n",
    "upper = corr_matrix.where(np.triu(np.ones(corr_matrix.shape), k=1).astype(np.bool))\n",
    "\n",
    "# Find features with correlation higher than 0.9 or lower -0.9\n",
    "to_drop = [column for column in upper.columns if any((upper[column] > 0.9) | (upper[column] < -0.9))]\n",
    "\n",
    "for element in to_drop:\n",
    "    column_list = list(df_train.columns[np.where(\n",
    "        (df_train.corrwith(df_train[element]) > 0.9) |\n",
    "        (df_train.corrwith(df_train[element]) < -0.9))])\n",
    "    column_list.remove(element)\n",
    "    for column in column_list:\n",
    "        print(str(element) + \" <-> \" + str(column) + \": \" + str(df_train[element].corr(df_train[column])))"
   ]
  },
  {
   "cell_type": "code",
   "execution_count": 69,
   "id": "665ff306-1891-4f27-b6d9-b0e949e218ab",
   "metadata": {},
   "outputs": [
    {
     "name": "stdout",
     "output_type": "stream",
     "text": [
      "df_train shape: (1399, 119)\n",
      "df_test shape: (1459, 118)\n"
     ]
    }
   ],
   "source": [
    "df_train.drop(['YrBltAndRemod', '2ndFlrSF', 'Fireplaces', 'x2_Reg', 'x12_Hip', 'x15_MetalSd', 'x15_VinylSd', 'x17_TA', 'x27_Y', 'x37_Partial'], axis=1, inplace=True)\n",
    "df_test.drop(['YrBltAndRemod', '2ndFlrSF', 'Fireplaces', 'x2_Reg', 'x12_Hip', 'x15_MetalSd', 'x15_VinylSd', 'x17_TA', 'x27_Y', 'x37_Partial'], axis=1, inplace=True)\n",
    "\n",
    "print(\"df_train shape: \" + str(df_train.shape))\n",
    "print(\"df_test shape: \" + str(df_test.shape))"
   ]
  },
  {
   "cell_type": "code",
   "execution_count": 70,
   "id": "abcf121c-db2d-41c1-9760-9d58d6d0fd8d",
   "metadata": {},
   "outputs": [],
   "source": [
    "# save prepared dataset as pickle file\n",
    "df_train.to_pickle('df_train_prepared.pkl')\n",
    "df_test.to_pickle('df_test_prepared.pkl')"
   ]
  },
  {
   "cell_type": "code",
   "execution_count": null,
   "id": "5bd55ec5-083c-4e2f-bf32-b9db88ebc2b5",
   "metadata": {},
   "outputs": [],
   "source": []
  },
  {
   "cell_type": "code",
   "execution_count": null,
   "id": "e1180296-eb97-4ce8-bb50-d14b0745b890",
   "metadata": {},
   "outputs": [],
   "source": []
  }
 ],
 "metadata": {
  "kernelspec": {
   "display_name": "Python 3 (ipykernel)",
   "language": "python",
   "name": "python3"
  },
  "language_info": {
   "codemirror_mode": {
    "name": "ipython",
    "version": 3
   },
   "file_extension": ".py",
   "mimetype": "text/x-python",
   "name": "python",
   "nbconvert_exporter": "python",
   "pygments_lexer": "ipython3",
   "version": "3.9.7"
  }
 },
 "nbformat": 4,
 "nbformat_minor": 5
}
